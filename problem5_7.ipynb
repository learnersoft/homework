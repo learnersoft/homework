{
  "nbformat": 4,
  "nbformat_minor": 0,
  "metadata": {
    "colab": {
      "provenance": []
    },
    "kernelspec": {
      "name": "python3",
      "display_name": "Python 3"
    },
    "language_info": {
      "name": "python"
    }
  },
  "cells": [
    {
      "cell_type": "markdown",
      "source": [
        "problem 5"
      ],
      "metadata": {
        "id": "Y4Du0IFSFb13"
      }
    },
    {
      "cell_type": "code",
      "source": [
        "import pandas as pd\n",
        "from sklearn.feature_extraction import DictVectorizer\n",
        "from sklearn.preprocessing import LabelEncoder\n",
        "from sklearn import tree\n",
        "from sklearn.model_selection import train_test_split"
      ],
      "metadata": {
        "id": "hsgt1-k1cI8_"
      },
      "execution_count": 1,
      "outputs": []
    },
    {
      "cell_type": "code",
      "source": [
        "data = pd.read_csv('data.csv')\n",
        "#指定列\n",
        "data=data.drop([\"User id\"],axis=1)\n",
        "data.columns = ['Age','Incoming','Student','Credit Rating',\"Buying\"]\n",
        "\n",
        "#sparse=False意思是不产生稀疏矩阵\n",
        "vec=DictVectorizer(sparse=False)\n",
        "#先用 pandas 对每行生成字典，然后进行向量化\n",
        "feature = data[['Age','Incoming','Student','Credit Rating']]\n",
        "X_train = vec.fit_transform(feature.to_dict(orient='record'))\n",
        "yvec = LabelEncoder() \n",
        "target=data[['Buying']]\n",
        "Y_train = yvec.fit_transform(target)\n",
        "#打印各个变量\n",
        "print('show feature\\n',feature)\n",
        "print('show vector\\n',X_train)\n",
        "print('show vector\\n',Y_train)\n",
        "print('show vector name\\n',vec.get_feature_names())\n"
      ],
      "metadata": {
        "colab": {
          "base_uri": "https://localhost:8080/"
        },
        "id": "F7Di7PSldrHM",
        "outputId": "5a3eae5c-5173-4983-d0ca-b31ba0538912"
      },
      "execution_count": 2,
      "outputs": [
        {
          "output_type": "stream",
          "name": "stdout",
          "text": [
            "show feature\n",
            "         Age Incoming Student Credit Rating\n",
            "0      <=30     high      no          fair\n",
            "1      <=30     high      no     excellent\n",
            "2   [31,40]     high      no          fair\n",
            "3       >40   medium      no          fair\n",
            "4       >40      low     yes          fair\n",
            "5       >40      low     yes     excellent\n",
            "6   [31,40]      low     yes     excellent\n",
            "7      <=30   medium      no          fair\n",
            "8      <=30      low     yes          fair\n",
            "9       >40   medium     yes          fair\n",
            "10     <=30   medium     yes     excellent\n",
            "11  [31,40]   medium      no     excellent\n",
            "12  [31,40]     high     yes          fair\n",
            "show vector\n",
            " [[1. 0. 0. 0. 1. 1. 0. 0. 1. 0.]\n",
            " [1. 0. 0. 1. 0. 1. 0. 0. 1. 0.]\n",
            " [0. 0. 1. 0. 1. 1. 0. 0. 1. 0.]\n",
            " [0. 1. 0. 0. 1. 0. 0. 1. 1. 0.]\n",
            " [0. 1. 0. 0. 1. 0. 1. 0. 0. 1.]\n",
            " [0. 1. 0. 1. 0. 0. 1. 0. 0. 1.]\n",
            " [0. 0. 1. 1. 0. 0. 1. 0. 0. 1.]\n",
            " [1. 0. 0. 0. 1. 0. 0. 1. 1. 0.]\n",
            " [1. 0. 0. 0. 1. 0. 1. 0. 0. 1.]\n",
            " [0. 1. 0. 0. 1. 0. 0. 1. 0. 1.]\n",
            " [1. 0. 0. 1. 0. 0. 0. 1. 0. 1.]\n",
            " [0. 0. 1. 1. 0. 0. 0. 1. 1. 0.]\n",
            " [0. 0. 1. 0. 1. 1. 0. 0. 0. 1.]]\n",
            "show vector\n",
            " [0 0 1 1 1 0 1 0 1 1 1 1 1]\n",
            "show vector name\n",
            " ['Age=<=30', 'Age=>40', 'Age=[31,40]', 'Credit Rating=excellent', 'Credit Rating=fair', 'Incoming=high', 'Incoming=low', 'Incoming=medium', 'Student=no', 'Student=yes']\n"
          ]
        },
        {
          "output_type": "stream",
          "name": "stderr",
          "text": [
            "<ipython-input-2-e71797c5b512>:10: FutureWarning: Using short name for 'orient' is deprecated. Only the options: ('dict', list, 'series', 'split', 'records', 'index') will be used in a future version. Use one of the above to silence this warning.\n",
            "  X_train = vec.fit_transform(feature.to_dict(orient='record'))\n",
            "/usr/local/lib/python3.8/dist-packages/sklearn/preprocessing/_label.py:115: DataConversionWarning: A column-vector y was passed when a 1d array was expected. Please change the shape of y to (n_samples, ), for example using ravel().\n",
            "  y = column_or_1d(y, warn=True)\n",
            "/usr/local/lib/python3.8/dist-packages/sklearn/utils/deprecation.py:87: FutureWarning: Function get_feature_names is deprecated; get_feature_names is deprecated in 1.0 and will be removed in 1.2. Please use get_feature_names_out instead.\n",
            "  warnings.warn(msg, category=FutureWarning)\n"
          ]
        }
      ]
    },
    {
      "cell_type": "code",
      "source": [
        "#划分成训练集，交叉集，验证集，不过这里我们数据量不够大，没必要\n",
        "#train_x, test_x, train_y, test_y = train_test_split(X_train, Y_train, test_size = 0.3)\n",
        "#训练决策树\n",
        "clf = tree.DecisionTreeClassifier(criterion='gini')\n",
        "clf.fit(X_train,Y_train)\n",
        "print(X_train.shape)\n",
        "\n",
        "\n",
        "#保存成 dot 文件，后面可以用 dot out.dot -T pdf -o out.pdf 转换成图片\n",
        "\n",
        "with open(\"out.dot\", 'w') as f :\n",
        "    f = tree.export_graphviz(clf,out_file = f,feature_names = vec.get_feature_names(),class_names=[\"yes\",\"no\"])\n",
        "y_pred=clf.predict(X_train)\n",
        "print(y_pred)"
      ],
      "metadata": {
        "colab": {
          "base_uri": "https://localhost:8080/"
        },
        "id": "4m8ksONleCGf",
        "outputId": "155ae5bf-be6f-4c75-8eaa-762004d040a9"
      },
      "execution_count": 8,
      "outputs": [
        {
          "output_type": "stream",
          "name": "stdout",
          "text": [
            "(13, 10)\n",
            "[0 0 1 1 1 0 1 0 1 1 1 1 1]\n"
          ]
        },
        {
          "output_type": "stream",
          "name": "stderr",
          "text": [
            "/usr/local/lib/python3.8/dist-packages/sklearn/utils/deprecation.py:87: FutureWarning: Function get_feature_names is deprecated; get_feature_names is deprecated in 1.0 and will be removed in 1.2. Please use get_feature_names_out instead.\n",
            "  warnings.warn(msg, category=FutureWarning)\n"
          ]
        }
      ]
    },
    {
      "cell_type": "markdown",
      "source": [
        "problem 7"
      ],
      "metadata": {
        "id": "3VNKJbrgOFIT"
      }
    },
    {
      "cell_type": "code",
      "source": [
        "'''\n",
        "连续型——Hopfield神经网络求解TSP\n",
        "1、初始化权值（A,D,U0）\n",
        "2、计算N个城市的距离矩阵dxy\n",
        "3、初始化神经网络的输入电压Uxi和输出电压Vxi\n",
        "4、利用动力微分方程计算：dUxi/dt\n",
        "5、由一阶欧拉方法更新计算：Uxi(t+1) = Uxi(t) + dUxi/dt * step\n",
        "6、由非线性函数sigmoid更新计算：Vxi(t) = 0.5 * (1 + th(Uxi/U0))\n",
        "7、计算能量函数E\n",
        "8、检查路径是否合法\n",
        "'''\n",
        "import numpy as np\n",
        "from matplotlib import pyplot as plt\n",
        "# 代价函数（具有三角不等式性质）\n",
        "def price_cn(vec1, vec2):\n",
        "    return np.linalg.norm(np.array(vec1) - np.array(vec2))\n",
        "def calc_distance(path):\n",
        "    dis = 0.0\n",
        "    for i in range(len(path) - 1):\n",
        "        dis += distance[path[i]][path[i+1]]\n",
        "    return dis\n",
        "# 得到城市之间的距离矩阵\n",
        "def get_distance(citys):\n",
        "    N = len(citys)\n",
        "    distance = np.zeros((N, N))\n",
        "    for i, curr_point in enumerate(citys):\n",
        "        line = []\n",
        "        [line.append(price_cn(curr_point, other_point)) if i != j else line.append(0.0) for j, other_point in enumerate(citys)]\n",
        "        distance[i] = line\n",
        "    return distance\n",
        "# 动态方程计算微分方程du\n",
        "def calc_du(V, distance):\n",
        "    a = np.sum(V, axis=0) - 1  # 按列相加\n",
        "    b = np.sum(V, axis=1) - 1  # 按行相加\n",
        "    t1 = np.zeros((N, N))\n",
        "    t2 = np.zeros((N, N))\n",
        "    for i in range(N):\n",
        "        for j in range(N):\n",
        "            t1[i, j] = a[j]\n",
        "    for i in range(N):\n",
        "        for j in range(N):\n",
        "            t2[j, i] = b[j]\n",
        "    # 将第一列移动到最后一列\n",
        "    c_1 = V[:, 1:N]\n",
        "    c_0 = np.zeros((N, 1))\n",
        "    c_0[:, 0] = V[:, 0]\n",
        "    c = np.concatenate((c_1, c_0), axis=1)\n",
        "    c = np.dot(distance, c)\n",
        "    return -A * (t1 + t2) - D * c\n",
        "# 更新神经网络的输入电压U\n",
        "def calc_U(U, du, step):\n",
        "    return U + du * step\n",
        "# 更新神经网络的输出电压V\n",
        "def calc_V(U, U0):\n",
        "    return 1 / 2 * (1 + np.tanh(U / U0))\n",
        "# 计算当前网络的能量\n",
        "def calc_energy(V, distance):\n",
        "    t1 = np.sum(np.power(np.sum(V, axis=0) - 1, 2))\n",
        "    t2 = np.sum(np.power(np.sum(V, axis=1) - 1, 2))\n",
        "    idx = [i for i in range(1, N)]\n",
        "    idx = idx + [0]\n",
        "    Vt = V[:, idx]\n",
        "    t3 = distance * Vt\n",
        "    t3 = np.sum(np.sum(np.multiply(V, t3)))\n",
        "    e = 0.5 * (A * (t1 + t2) + D * t3)\n",
        "    return e\n",
        "# 检查路径的正确性\n",
        "def check_path(V):\n",
        "    newV = np.zeros([N, N])\n",
        "    route = []\n",
        "    for i in range(N):\n",
        "        mm = np.max(V[:, i])\n",
        "        for j in range(N):\n",
        "            if V[j, i] == mm:\n",
        "                newV[j, i] = 1\n",
        "                route += [j]\n",
        "                break\n",
        "    return route, newV\n",
        "# 可视化画出哈密顿回路和能量趋势\n",
        "def draw_H_and_E(citys, H_path, energys):\n",
        "    fig = plt.figure()\n",
        "    # 绘制哈密顿回路\n",
        "    ax1 = fig.add_subplot(121)\n",
        "    plt.xlim(0, 7)\n",
        "    plt.ylim(0, 7)\n",
        "    for (from_, to_) in H_path:\n",
        "        p1 = plt.Circle(citys[from_], 0.2, color='red')\n",
        "        p2 = plt.Circle(citys[to_], 0.2, color='red')\n",
        "        ax1.add_patch(p1)\n",
        "        ax1.add_patch(p2)\n",
        "        ax1.plot((citys[from_][0], citys[to_][0]), (citys[from_][1], citys[to_][1]), color='red')\n",
        "        ax1.annotate(s=chr(97 + to_), xy=citys[to_], xytext=(-8, -4), textcoords='offset points', fontsize=20)\n",
        "    ax1.axis('equal')\n",
        "    ax1.grid()\n",
        "    # 绘制能量趋势图\n",
        "    ax2 = fig.add_subplot(122)\n",
        "    ax2.plot(np.arange(0, len(energys), 1), energys, color='red')\n",
        "    plt.show()\n",
        "if __name__ == '__main__':\n",
        "    citys = np.array([[2, 6], [2, 4], [1, 3], [4, 6], [5, 5], [4, 4], [6, 4], [3, 2]])\n",
        "    distance = get_distance(citys)\n",
        "    N = len(citys)\n",
        "    # 设置初始值\n",
        "    A = N * N\n",
        "    D = N / 2\n",
        "    U0 = 0.0009  # 初始电压\n",
        "    step = 0.0001  # 步长\n",
        "    num_iter = 10000  # 迭代次数\n",
        "    # 初始化神经网络的输入状态（电路的输入电压U）\n",
        "    U = 1 / 2 * U0 * np.log(N - 1) + (2 * (np.random.random((N, N))) - 1)\n",
        "    # 初始化神经网络的输出状态（电路的输出电压V）\n",
        "    V = calc_V(U, U0)\n",
        "    energys = np.array([0.0 for x in range(num_iter)])  # 每次迭代的能量\n",
        "    best_distance = np.inf  # 最优距离\n",
        "    best_route = []  # 最优路线\n",
        "    H_path = []  # 哈密顿回路\n",
        "    # 开始迭代训练网络\n",
        "    for n in range(num_iter):\n",
        "        # 利用动态方程计算du\n",
        "        du = calc_du(V, distance)\n",
        "        # 由一阶欧拉法更新下一个时间的输入状态（电路的输入电压U）\n",
        "        U = calc_U(U, du, step)\n",
        "        # 由sigmoid函数更新下一个时间的输出状态（电路的输出电压V）\n",
        "        V = calc_V(U, U0)\n",
        "        # 计算当前网络的能量E\n",
        "        energys[n] = calc_energy(V, distance)\n",
        "        # 检查路径的合法性\n",
        "        route, newV = check_path(V)\n",
        "        if len(np.unique(route)) == N:\n",
        "            route.append(route[0])\n",
        "            dis = calc_distance(route)\n",
        "            if dis < best_distance:\n",
        "                H_path = []\n",
        "                best_distance = dis\n",
        "                best_route = route\n",
        "                [H_path.append((route[i], route[i + 1])) for i in range(len(route) - 1)]\n",
        "                print('第{}次迭代找到的次优解距离为：{}，能量为：{}，路径为：'.format(n, best_distance, energys[n]))\n",
        "                [print(chr(97 + v), end=',' if i < len(best_route) - 1 else '\\n') for i, v in enumerate(best_route)]\n",
        "    if len(H_path) > 0:\n",
        "        draw_H_and_E(citys, H_path, energys)\n",
        "    else:\n",
        "        print('没有找到最优解')"
      ],
      "metadata": {
        "colab": {
          "base_uri": "https://localhost:8080/",
          "height": 543
        },
        "id": "aohVHHlUhore",
        "outputId": "1d05ae70-7b5f-4df1-e865-e92f36acddd5"
      },
      "execution_count": null,
      "outputs": [
        {
          "output_type": "stream",
          "name": "stdout",
          "text": [
            "第165次迭代找到的次优解距离为：24.236227905404693，能量为：464.2140081681268，路径为：\n",
            "a,h,b,g,d,f,e,c,a\n",
            "第206次迭代找到的次优解距离为：23.177617382033013，能量为：261.2436704383604，路径为：\n",
            "f,h,b,g,d,e,c,a,f\n",
            "第467次迭代找到的次优解距离为：20.317605412116922，能量为：245.46495895114435，路径为：\n",
            "f,h,e,g,d,b,c,a,f\n",
            "第1498次迭代找到的次优解距离为：19.420946199897497，能量为：193.4224099100892，路径为：\n",
            "f,e,g,d,h,b,c,a,f\n",
            "第2239次迭代找到的次优解距离为：18.903391849743826，能量为：129.02941625448932，路径为：\n",
            "e,d,g,h,b,c,a,f,e\n",
            "第2397次迭代找到的次优解距离为：17.74111418957545，能量为：193.02056834914333，路径为：\n",
            "e,d,g,h,c,b,a,f,e\n",
            "第4210次迭代找到的次优解距离为：17.430241414982927，能量为：196.30962598845926，路径为：\n",
            "e,d,h,c,b,a,f,g,e\n",
            "第8098次迭代找到的次优解距离为：14.714776642118865，能量为：153.36094273774276，路径为：\n",
            "h,c,b,a,d,e,g,f,h\n"
          ]
        },
        {
          "output_type": "display_data",
          "data": {
            "text/plain": [
              "<Figure size 432x288 with 2 Axes>"
            ],
            "image/png": "[encoded data removed]"
          },
          "metadata": {
            "needs_background": "light"
          }
        }
      ]
    },
    {
      "cell_type": "code",
      "source": [],
      "metadata": {
        "id": "Vl6KoyuAxJu1"
      },
      "execution_count": null,
      "outputs": []
    }
  ]
}